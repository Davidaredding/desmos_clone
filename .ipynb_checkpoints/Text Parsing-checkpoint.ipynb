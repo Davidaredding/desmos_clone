{
 "cells": [
  {
   "cell_type": "markdown",
   "id": "94e5d9a6-39bb-40b6-8f1c-9c6c782becc5",
   "metadata": {},
   "source": [
    "# Math String Parser"
   ]
  },
  {
   "cell_type": "markdown",
   "id": "d3e5252f-b97e-44f1-b83e-23c8b17b1ec3",
   "metadata": {},
   "source": [
    "## Goal\n",
    "* Build a function that takes a mathmatical string as it's input and returns a description of the equation  \n",
    "* Build the same function but have it return a binary tree\n",
    "    * May need to manually recognize order of operation, PEMD(AS)\n",
    "\n",
    "## Validation\n",
    "* Unrecognized Syntax \n",
    "* Odd number of paren and bracket\n",
    "\n"
   ]
  },
  {
   "cell_type": "markdown",
   "id": "f8d50b60-c6c2-4431-8d5c-125430baeee5",
   "metadata": {
    "jupyter": {
     "source_hidden": true
    },
    "tags": []
   },
   "source": [
    "## Test Strings\n",
    "* 2+2\n",
    "* 2+2-3\n",
    "* (2+2)\n",
    "* (2+2)*3\n",
    "* ((2+2-3)+3)\n",
    "* (2+2)+(2-2)\n",
    "* 3(2+2)+9(2-2)\n",
    "* 2^2    Exponenet form 1\n",
    "* 4^1/2  Exponenet form 2\n",
    "* 4^-1/2 Exponenet form 3\n",
    "\n"
   ]
  },
  {
   "cell_type": "code",
   "execution_count": null,
   "id": "52ef1045-2935-497d-be79-49108c577ac0",
   "metadata": {},
   "outputs": [],
   "source": [
    "//Iteration 1\n",
    "\n",
    "using System.Text.RegularExpressions;\n",
    "/* Doesn't work with prens\n",
    "   Guarnteed to have 4 items (the first one being the entire match)\n",
    "   [0: Entire Match]\n",
    "   [1: First set of Digits including dots]\n",
    "   [2: operator]\n",
    "   [3: Second Set of Digits including dots]\n",
    "   \n",
    "   We may get multiple matches in the case of multiple operators\n",
    "   \n",
    "   We are not doing *any* checking on this string\n",
    "*/\n",
    "var simple_expression = new Regex(@\"([\\d\\.]*)([\\+\\-\\.])([\\d\\.]*)\"); \n",
    "\n",
    "\n",
    "\n",
    "\n",
    "void SimpleParser(string s)\n",
    "{\n",
    "    MatchCollection matches = simple_expression.Matches(s);\n",
    "    foreach(Match m in matches)\n",
    "    {\n",
    "        var g = m.Groups;\n",
    "        var o = $\"{m.Index}: {g[0]}\";\n",
    "        display(o);\n",
    "        \n",
    "        var hasLeft = int.TryParse(g[1].Value, out var Left);\n",
    "        var hasRight = int.TryParse(g[3].Value, out var Right);\n",
    "        \n",
    "        display($\"\\t{g[1].Value}, {g[2].Value}, {g[3].Value},\");\n",
    "        \n",
    "        \n",
    "        \n",
    "        var op = g[2].Value;\n",
    "        \n",
    "        display($\"\\tLeft:    {(hasLeft?Left.ToString():\"NaN\")}\");\n",
    "        display($\"\\tRight:   {(hasRight?Right.ToString():\"NaN\")}\");\n",
    "        display($\"\\tOperator: {op}\");\n",
    "    }\n",
    "}\n",
    "\n",
    "SimpleParser(\"2+2\");\n",
    "display(HTML(\"<hr/>\"));\n",
    "SimpleParser(\"24+42-3\");\n",
    "display(HTML(\"<hr/>\"));\n",
    "SimpleParser(\"24+42-3+12\");\n",
    "\n"
   ]
  },
  {
   "cell_type": "code",
   "execution_count": 153,
   "id": "d6046177-711d-4cab-b6e2-fe254dcc8ccf",
   "metadata": {},
   "outputs": [
    {
     "data": {
      "text/plain": [
       "0: 2+2"
      ]
     },
     "metadata": {},
     "output_type": "display_data"
    },
    {
     "data": {
      "text/plain": [
       "\t2, +, 2,"
      ]
     },
     "metadata": {},
     "output_type": "display_data"
    },
    {
     "data": {
      "text/plain": [
       "\tLeft:    2"
      ]
     },
     "metadata": {},
     "output_type": "display_data"
    },
    {
     "data": {
      "text/plain": [
       "\tRight:   2"
      ]
     },
     "metadata": {},
     "output_type": "display_data"
    },
    {
     "data": {
      "text/plain": [
       "\tOperator: +"
      ]
     },
     "metadata": {},
     "output_type": "display_data"
    },
    {
     "data": {
      "text/html": [
       "<hr/>"
      ]
     },
     "metadata": {},
     "output_type": "display_data"
    },
    {
     "data": {
      "text/plain": [
       "0: 24+42"
      ]
     },
     "metadata": {},
     "output_type": "display_data"
    },
    {
     "data": {
      "text/plain": [
       "\t24, +, 42,"
      ]
     },
     "metadata": {},
     "output_type": "display_data"
    },
    {
     "data": {
      "text/plain": [
       "\tLeft:    24"
      ]
     },
     "metadata": {},
     "output_type": "display_data"
    },
    {
     "data": {
      "text/plain": [
       "\tRight:   42"
      ]
     },
     "metadata": {},
     "output_type": "display_data"
    },
    {
     "data": {
      "text/plain": [
       "\tOperator: +"
      ]
     },
     "metadata": {},
     "output_type": "display_data"
    },
    {
     "data": {
      "text/plain": [
       "5: -3"
      ]
     },
     "metadata": {},
     "output_type": "display_data"
    },
    {
     "data": {
      "text/plain": [
       "\t, -, 3,"
      ]
     },
     "metadata": {},
     "output_type": "display_data"
    },
    {
     "data": {
      "text/plain": [
       "\tLeft:    NaN"
      ]
     },
     "metadata": {},
     "output_type": "display_data"
    },
    {
     "data": {
      "text/plain": [
       "\tRight:   3"
      ]
     },
     "metadata": {},
     "output_type": "display_data"
    },
    {
     "data": {
      "text/plain": [
       "\tOperator: -"
      ]
     },
     "metadata": {},
     "output_type": "display_data"
    },
    {
     "data": {
      "text/html": [
       "<hr/>"
      ]
     },
     "metadata": {},
     "output_type": "display_data"
    },
    {
     "data": {
      "text/plain": [
       "0: 24+42"
      ]
     },
     "metadata": {},
     "output_type": "display_data"
    },
    {
     "data": {
      "text/plain": [
       "\t24, +, 42,"
      ]
     },
     "metadata": {},
     "output_type": "display_data"
    },
    {
     "data": {
      "text/plain": [
       "\tLeft:    24"
      ]
     },
     "metadata": {},
     "output_type": "display_data"
    },
    {
     "data": {
      "text/plain": [
       "\tRight:   42"
      ]
     },
     "metadata": {},
     "output_type": "display_data"
    },
    {
     "data": {
      "text/plain": [
       "\tOperator: +"
      ]
     },
     "metadata": {},
     "output_type": "display_data"
    },
    {
     "data": {
      "text/plain": [
       "5: -3"
      ]
     },
     "metadata": {},
     "output_type": "display_data"
    },
    {
     "data": {
      "text/plain": [
       "\t, -, 3,"
      ]
     },
     "metadata": {},
     "output_type": "display_data"
    },
    {
     "data": {
      "text/plain": [
       "\tLeft:    NaN"
      ]
     },
     "metadata": {},
     "output_type": "display_data"
    },
    {
     "data": {
      "text/plain": [
       "\tRight:   3"
      ]
     },
     "metadata": {},
     "output_type": "display_data"
    },
    {
     "data": {
      "text/plain": [
       "\tOperator: -"
      ]
     },
     "metadata": {},
     "output_type": "display_data"
    },
    {
     "data": {
      "text/plain": [
       "7: +12"
      ]
     },
     "metadata": {},
     "output_type": "display_data"
    },
    {
     "data": {
      "text/plain": [
       "\t, +, 12,"
      ]
     },
     "metadata": {},
     "output_type": "display_data"
    },
    {
     "data": {
      "text/plain": [
       "\tLeft:    NaN"
      ]
     },
     "metadata": {},
     "output_type": "display_data"
    },
    {
     "data": {
      "text/plain": [
       "\tRight:   12"
      ]
     },
     "metadata": {},
     "output_type": "display_data"
    },
    {
     "data": {
      "text/plain": [
       "\tOperator: +"
      ]
     },
     "metadata": {},
     "output_type": "display_data"
    }
   ],
   "source": [
    "//Iteration 2 - Simple binary Tree\n",
    "\n",
    "/*\n",
    "    Expected output, something like\n",
    "                (-)\n",
    "            (+)    (3)\n",
    "        (2)    (2)\n",
    "        \n",
    "    Each Paren represents a node\n",
    "*/\n",
    "var simple_expression_2 = new Regex(@\"([\\d\\.]*)([\\+\\-\\.])([\\d\\.]*)\"); \n",
    "public class SimpleMathNode\n",
    "{\n",
    "    Double? Value;\n",
    "    String Operator;\n",
    "    SimpleMathNode Left;\n",
    "    SimpleMathNode Right;\n",
    "}\n",
    "\n",
    "Double DoMath(SimpleMathNode root)\n",
    "{\n",
    "    return 0;\n",
    "}\n",
    "\n",
    "void SimpleParser(string s)\n",
    "{\n",
    "    MatchCollection matches = simple_expression.Matches(s);\n",
    "    foreach(Match m in matches)\n",
    "    {\n",
    "        var g = m.Groups;\n",
    "        var o = $\"{m.Index}: {g[0]}\";\n",
    "        display(o);\n",
    "        \n",
    "        var hasLeft = Double.TryParse(g[1].Value, out var Left);\n",
    "        var hasRight = Double.TryParse(g[3].Value, out var Right);\n",
    "        \n",
    "        display($\"\\t{g[1].Value}, {g[2].Value}, {g[3].Value},\");\n",
    "        \n",
    "        \n",
    "        \n",
    "        var op = g[2].Value;\n",
    "        \n",
    "        display($\"\\tLeft:    {(hasLeft?Left.ToString():\"NaN\")}\");\n",
    "        display($\"\\tRight:   {(hasRight?Right.ToString():\"NaN\")}\");\n",
    "        display($\"\\tOperator: {op}\");\n",
    "    }\n",
    "}\n",
    "\n",
    "SimpleParser(\"2+2\");\n",
    "display(HTML(\"<hr/>\"));\n",
    "SimpleParser(\"24+42-3\");\n",
    "display(HTML(\"<hr/>\"));\n",
    "SimpleParser(\"24+42-3+12\");\n"
   ]
  },
  {
   "cell_type": "code",
   "execution_count": null,
   "id": "0481f93e-422b-47c0-bf28-7aaae09d3102",
   "metadata": {},
   "outputs": [],
   "source": []
  }
 ],
 "metadata": {
  "kernelspec": {
   "display_name": ".NET (C#)",
   "language": "C#",
   "name": ".net-csharp"
  },
  "language_info": {
   "file_extension": ".cs",
   "mimetype": "text/x-csharp",
   "name": "C#",
   "pygments_lexer": "csharp",
   "version": "8.0"
  }
 },
 "nbformat": 4,
 "nbformat_minor": 5
}
