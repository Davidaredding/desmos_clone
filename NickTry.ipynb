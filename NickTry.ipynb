{
 "cells": [
  {
   "cell_type": "code",
   "execution_count": 1,
   "id": "aed23b2b-b8e1-4f38-8bc4-1340c43b88ff",
   "metadata": {},
   "outputs": [
    {
     "data": {
      "text/plain": [
       "Idk"
      ]
     },
     "metadata": {},
     "output_type": "display_data"
    },
    {
     "data": {
      "text/html": [
       "<hr/>"
      ]
     },
     "metadata": {},
     "output_type": "display_data"
    },
    {
     "data": {
      "text/plain": [
       "Idk"
      ]
     },
     "metadata": {},
     "output_type": "display_data"
    },
    {
     "data": {
      "text/html": [
       "<hr/>"
      ]
     },
     "metadata": {},
     "output_type": "display_data"
    },
    {
     "data": {
      "text/plain": [
       "Idk"
      ]
     },
     "metadata": {},
     "output_type": "display_data"
    }
   ],
   "source": [
    "using System.Text.RegularExpressions;\n",
    "var simple_expression = new Regex(@\".*\"); //Try regex101.com\n",
    "\n",
    "\n",
    "\n",
    "void SimpleParser(string s)\n",
    "{\n",
    "   display(\"Idk\");\n",
    "}\n",
    "\n",
    "SimpleParser(\"2+2\");\n",
    "display(HTML(\"<hr/>\"));\n",
    "SimpleParser(\"24+42-3\");\n",
    "display(HTML(\"<hr/>\"));\n",
    "SimpleParser(\"24+42-3+12\");\n"
   ]
  }
 ],
 "metadata": {
  "kernelspec": {
   "display_name": ".NET (C#)",
   "language": "C#",
   "name": ".net-csharp"
  },
  "language_info": {
   "file_extension": ".cs",
   "mimetype": "text/x-csharp",
   "name": "C#",
   "pygments_lexer": "csharp",
   "version": "8.0"
  }
 },
 "nbformat": 4,
 "nbformat_minor": 5
}
