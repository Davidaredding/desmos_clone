{
 "cells": [
  {
   "cell_type": "markdown",
   "id": "94e5d9a6-39bb-40b6-8f1c-9c6c782becc5",
   "metadata": {},
   "source": [
    "# Math String Parser"
   ]
  },
  {
   "cell_type": "markdown",
   "id": "d3e5252f-b97e-44f1-b83e-23c8b17b1ec3",
   "metadata": {},
   "source": [
    "## Goal\n",
    "> Build a function that takes a mathmatical string as it's input and returns an un-compiled expression tree or returns a meaningful error;\n",
    "* Success\n",
    "    * Expression.\n",
    "* Errors\n",
    "    * Missing Paren\n",
    "    * Missing constant (when a binary operator is passed but missing both sides)\n",
    "\n"
   ]
  },
  {
   "cell_type": "markdown",
   "id": "f8d50b60-c6c2-4431-8d5c-125430baeee5",
   "metadata": {
    "tags": []
   },
   "source": [
    "## Test Strings\n",
    "\n",
    "### Exercise basic arithimitic and scoping\n",
    "* 2+2        Basic\n",
    "* 2+2-3      Multiple operators\n",
    "* (2+2)      Scope\n",
    "* (2+2)-3    Compound\n",
    "\n",
    "### Exercise Operators\n",
    "* 2+2    Addition\n",
    "* 2-1    Subtraction\n",
    "* 4/2    Division\n",
    "* 2\\*2    Multiplication\n",
    "* 2^2    Exponenet form 1\n",
    "* 4^1/2  Exponenet form 2\n",
    "* 4^-1/2 Exponenet form 3\n",
    "\n"
   ]
  },
  {
   "cell_type": "code",
   "execution_count": 4,
   "id": "52ef1045-2935-497d-be79-49108c577ac0",
   "metadata": {},
   "outputs": [],
   "source": [
    "using System.Text.RegularExpressions;\n",
    "var rx = new Regex(@\"([0-9\\(]*)([\\+\\-\\*\\/])([0-9\\)]*)\");\n"
   ]
  }
 ],
 "metadata": {
  "kernelspec": {
   "display_name": ".NET (C#)",
   "language": "C#",
   "name": ".net-csharp"
  },
  "language_info": {
   "file_extension": ".cs",
   "mimetype": "text/x-csharp",
   "name": "C#",
   "pygments_lexer": "csharp",
   "version": "8.0"
  }
 },
 "nbformat": 4,
 "nbformat_minor": 5
}
